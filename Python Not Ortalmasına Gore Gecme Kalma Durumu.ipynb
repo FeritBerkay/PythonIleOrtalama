{
 "cells": [
  {
   "cell_type": "code",
   "execution_count": 24,
   "metadata": {},
   "outputs": [
    {
     "name": "stdout",
     "output_type": "stream",
     "text": [
      "İsminiz:Ferit\n",
      "1. notunuz:50\n",
      "2. notunuz:80\n",
      "3. notunuz:90\n",
      "Ogrenci İsmi= Ferit \n",
      " Ortalaması= 73.33333333333333 \n",
      " Sınıftan basarısız olarak gecti\n"
     ]
    }
   ],
   "source": [
    "isim=input(\"İsminiz:\")\n",
    "not1=int(input(\"1. notunuz:\"))\n",
    "not2=int(input(\"2. notunuz:\"))\n",
    "not3=int(input(\"3. notunuz:\"))\n",
    "gecti=\"Sınıftan Gecti\"\n",
    "basarısız=\"Sınıftan basarısız olarak gecti\"\n",
    "kaldı=\"Sınıfta kaldı\"\n",
    "\n",
    "def ortalama(not1,not2,not3):\n",
    "    ortalama1= (not1+not2+not3)/3\n",
    "    return ortalama1 \n",
    "def yazdır(isim,not1,not2,not3):\n",
    "    deger=ortalama(not1,not2,not3)\n",
    "    if(deger>85):\n",
    "        print(f\"Ogrenci İsmi= {isim} \\n Ortalaması= {deger} \\n {gecti}\")\n",
    "    elif(50<deger<85):\n",
    "        print(f\"Ogrenci İsmi= {isim} \\n Ortalaması= {deger} \\n {basarısız}\")\n",
    "    elif(deger<50):\n",
    "        print(f\"Ogrenci İsmi= {isim} \\n Ortalaması= {deger} \\n {kaldı}\")\n",
    "yazdır(isim,not1,not2,not3)"
   ]
  }
 ],
 "metadata": {
  "kernelspec": {
   "display_name": "Python 3",
   "language": "python",
   "name": "python3"
  },
  "language_info": {
   "codemirror_mode": {
    "name": "ipython",
    "version": 3
   },
   "file_extension": ".py",
   "mimetype": "text/x-python",
   "name": "python",
   "nbconvert_exporter": "python",
   "pygments_lexer": "ipython3",
   "version": "3.8.5"
  }
 },
 "nbformat": 4,
 "nbformat_minor": 4
}
